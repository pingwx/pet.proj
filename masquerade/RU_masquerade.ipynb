{
  "cells": [
    {
      "cell_type": "markdown",
      "metadata": {
        "id": "view-in-github",
        "colab_type": "text"
      },
      "source": [
        "<a href=\"https://colab.research.google.com/github/pingwx/pet.proj/blob/main/masquerade/RU_masquerade.ipynb\" target=\"_parent\"><img src=\"https://colab.research.google.com/assets/colab-badge.svg\" alt=\"Open In Colab\"/></a>"
      ]
    },
    {
      "cell_type": "code",
      "execution_count": null,
      "metadata": {
        "id": "xsuhCrdZyMfp"
      },
      "outputs": [],
      "source": [
        "!gdown 1T1B-1mzf-nM04jXkHrfQsHE5TcHWXlP2 #download test sample"
      ]
    },
    {
      "cell_type": "code",
      "execution_count": null,
      "metadata": {
        "id": "aaBMOAUZyThP"
      },
      "outputs": [],
      "source": [
        "!unzip \"/content/AttributedTestFaces_new.zip\" #unzip test sample"
      ]
    },
    {
      "cell_type": "code",
      "execution_count": null,
      "metadata": {
        "id": "J0dcSHb39QPm"
      },
      "outputs": [],
      "source": [
        "!gdown 1D5_xUzO0fCR_mkjt-Zpi7DM6H3d8uYlN #download train sample"
      ]
    },
    {
      "cell_type": "code",
      "execution_count": null,
      "metadata": {
        "id": "KHmPr3MX9Tvt"
      },
      "outputs": [],
      "source": [
        "!unzip \"/content/TrueFaces_new.zip\" #unzip train sample"
      ]
    },
    {
      "cell_type": "markdown",
      "source": [
        "# Маскарад"
      ],
      "metadata": {
        "id": "CY2uRaujjsoh"
      }
    },
    {
      "cell_type": "markdown",
      "source": [
        "Заказчик, https://rybocop.com/mask просит разработать модель, которая смогла бы различать, как люди носят маски на лице в коронавирусное время. Это позволило бы оценить эффективность мер борьбы с инфекцией. Мы должны классифицировать изображения людей на 5 классов:\n",
        "\n",
        "\n",
        "- **Класс А** - маска полностью закрывает лицо \n",
        "\n",
        "![A000230.jpg](data:image/jpeg;base64,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)\n",
        "\n",
        "- **Класс E** - человек без макси\n",
        "\n",
        "![E000018.jpg](data:image/jpeg;base64,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)\n",
        "\n",
        "- **Класс T** - маска закрывает только рот\n",
        "\n",
        "![T000603.jpg](data:image/jpeg;base64,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)\n",
        "\n",
        "- **Класс I** - маска на подбородке\n",
        "\n",
        "![I000007.jpg](data:image/jpeg;base64,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)\n",
        "\n",
        "- **Класс N** - ошибки распознавания лица\n",
        "\n",
        "![N000011.jpg](data:image/jpeg;base64,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)\n",
        "\n",
        "В последстве модель будет интегрироваться с камерами, установленными на улице города. С помощью камер и модели будет считаться число людей, носящих маски разным способом. Таким образом будет оцениваться поведение людей с течением времени. Численно будет замеряться и оцениваться динамика следующей величины:\n",
        "\n",
        "$$StonenessIndex = \\frac{I+2T+3A}{A+T+I+E}$$\n"
      ],
      "metadata": {
        "id": "QpU-I5V6j_xE"
      }
    },
    {
      "cell_type": "markdown",
      "source": [
        "## Разработка модели"
      ],
      "metadata": {
        "id": "c1CjeUwPr4tk"
      }
    },
    {
      "cell_type": "markdown",
      "source": [
        "Библиотеки:"
      ],
      "metadata": {
        "id": "C4pej71Rr8Q0"
      }
    },
    {
      "cell_type": "code",
      "execution_count": 5,
      "metadata": {
        "id": "AVdXDny6XthE"
      },
      "outputs": [],
      "source": [
        "import tensorflow as tf\n",
        "from tensorflow.keras.models import Sequential\n",
        "from tensorflow.keras import layers\n",
        "import matplotlib.pyplot as plt\n",
        "import numpy as np\n",
        "from sklearn.metrics import classification_report\n",
        "from sklearn.metrics import confusion_matrix\n",
        "import pandas as pd\n",
        "import seaborn as sns"
      ]
    },
    {
      "cell_type": "markdown",
      "source": [
        "Константы:"
      ],
      "metadata": {
        "id": "F5FWxW4Hr-HV"
      }
    },
    {
      "cell_type": "code",
      "execution_count": 6,
      "metadata": {
        "id": "zbTrOD6zYskP"
      },
      "outputs": [],
      "source": [
        "TEST_FACES_DIR = '/content/AttributedTestFaces_new'\n",
        "TRAIN_FACES_DIR = '/content/TrueFaces_new'\n",
        "BATCH_SIZE = 32\n",
        "IMG_SIZE = 60\n",
        "LABEL_NAMES = ['A', 'E', 'I', 'N', 'T']\n",
        "NUM_CLASSES = 5\n",
        "EPOCHS = 20"
      ]
    },
    {
      "cell_type": "markdown",
      "source": [
        "В этой задачи модель будем строить при помощи Keras. Инициализируем датасеты в интерфейсе Keras:"
      ],
      "metadata": {
        "id": "F5PnbFmWsHFF"
      }
    },
    {
      "cell_type": "code",
      "execution_count": 7,
      "metadata": {
        "colab": {
          "base_uri": "https://localhost:8080/"
        },
        "id": "M06ehKshaoO7",
        "outputId": "8ad77d3c-5afd-4a8f-a46f-7575ad02890c"
      },
      "outputs": [
        {
          "output_type": "stream",
          "name": "stdout",
          "text": [
            "Found 122059 files belonging to 5 classes.\n",
            "Using 109854 files for training.\n"
          ]
        }
      ],
      "source": [
        "train_ds = tf.keras.preprocessing.image_dataset_from_directory(\n",
        "        TRAIN_FACES_DIR,\n",
        "        validation_split=0.1,\n",
        "        subset=\"training\",\n",
        "        seed=123,\n",
        "        label_mode='categorical',\n",
        "        class_names = LABEL_NAMES,\n",
        "        image_size=(IMG_SIZE, IMG_SIZE),\n",
        "        batch_size=BATCH_SIZE)"
      ]
    },
    {
      "cell_type": "code",
      "execution_count": 8,
      "metadata": {
        "colab": {
          "base_uri": "https://localhost:8080/"
        },
        "id": "mhD0PTETa692",
        "outputId": "75914244-3454-49b2-e8c4-87010561fbd3"
      },
      "outputs": [
        {
          "output_type": "stream",
          "name": "stdout",
          "text": [
            "Found 122059 files belonging to 5 classes.\n",
            "Using 12205 files for validation.\n"
          ]
        }
      ],
      "source": [
        "val_ds = tf.keras.preprocessing.image_dataset_from_directory(\n",
        "        TRAIN_FACES_DIR,\n",
        "        validation_split=0.1,\n",
        "        subset=\"validation\",\n",
        "        seed=123,\n",
        "        label_mode='categorical',\n",
        "        class_names = LABEL_NAMES,\n",
        "        image_size=(IMG_SIZE, IMG_SIZE),\n",
        "        batch_size=BATCH_SIZE)"
      ]
    },
    {
      "cell_type": "markdown",
      "metadata": {
        "id": "ij_ahUMv1v3V"
      },
      "source": [
        "Создадим слой, выполняющий аугментацию изображений. Это необходимо, чтобы на каждой эпохе обучения, модель видела новые сэмплы изображений, таким образом мы повысим ее устойчивость, и немного защитимся от оверфиттинга."
      ]
    },
    {
      "cell_type": "code",
      "execution_count": 9,
      "metadata": {
        "id": "ykPn-bH4yIXC"
      },
      "outputs": [],
      "source": [
        "data_augmentation = Sequential([\n",
        "        layers.experimental.preprocessing.RandomFlip(\n",
        "            \"horizontal\", input_shape=(IMG_SIZE, IMG_SIZE, 3)),\n",
        "        layers.experimental.preprocessing.RandomZoom(0.1),\n",
        "    ])"
      ]
    },
    {
      "cell_type": "markdown",
      "source": [
        "Зададим саму модель. Это одна из простейщих архитектур сверточной нейронной сети. В ней сперва выполняется аугментация, затем нормализация, а затем идет комбинация сверточных и пулинг слоев. На выходе у нас число нейронов равное числу классов, необходимых для нашей классификации."
      ],
      "metadata": {
        "id": "vdMnOXjXtF8y"
      }
    },
    {
      "cell_type": "code",
      "source": [
        "model = Sequential([\n",
        "        data_augmentation,\n",
        "        layers.experimental.preprocessing.Rescaling(1. / 255),\n",
        "        layers.Conv2D(16, 3, padding='same', activation='relu'),\n",
        "        layers.MaxPooling2D(),\n",
        "        layers.Conv2D(32, 3, padding='same', activation='relu'),\n",
        "        layers.MaxPooling2D(),\n",
        "        layers.Conv2D(64, 3, padding='same', activation='relu'),\n",
        "        layers.MaxPooling2D(),\n",
        "        layers.Dropout(0.2),\n",
        "        layers.Flatten(),\n",
        "        layers.Dense(128, activation='relu'),\n",
        "        layers.Dense(NUM_CLASSES)\n",
        "    ])"
      ],
      "metadata": {
        "id": "g5WsuBwjtJsB"
      },
      "execution_count": 10,
      "outputs": []
    },
    {
      "cell_type": "markdown",
      "source": [
        "Функция потерь и оптимизатор задаются в compile."
      ],
      "metadata": {
        "id": "yn5nc8kSt4LO"
      }
    },
    {
      "cell_type": "code",
      "execution_count": 11,
      "metadata": {
        "id": "IOqRSfoUbWzd"
      },
      "outputs": [],
      "source": [
        "model.compile(optimizer='adam',\n",
        "              loss=tf.keras.losses.CategoricalCrossentropy(from_logits=True),\n",
        "              metrics=['categorical_accuracy'])"
      ]
    },
    {
      "cell_type": "markdown",
      "source": [
        "Зададим также callback, который будет мониторить, если лосс не улучшается некоторое количество эпох, обучение останавливаем."
      ],
      "metadata": {
        "id": "2TbhCDb1uAEz"
      }
    },
    {
      "cell_type": "code",
      "source": [
        "callback = tf.keras.callbacks.EarlyStopping(monitor='val_loss', patience=6, restore_best_weights=True)"
      ],
      "metadata": {
        "id": "IjDptLcAuLN7"
      },
      "execution_count": 12,
      "outputs": []
    },
    {
      "cell_type": "markdown",
      "source": [
        "Приступим к обучению."
      ],
      "metadata": {
        "id": "1DVynDBguKgA"
      }
    },
    {
      "cell_type": "code",
      "execution_count": 13,
      "metadata": {
        "colab": {
          "base_uri": "https://localhost:8080/"
        },
        "id": "NOT0kYJdtVuX",
        "outputId": "a8deb2ab-e222-40e3-ad4d-33c0d61242b3"
      },
      "outputs": [
        {
          "output_type": "stream",
          "name": "stdout",
          "text": [
            "Epoch 1/20\n",
            "3433/3433 [==============================] - 66s 16ms/step - loss: 0.3409 - categorical_accuracy: 0.8825 - val_loss: 0.2340 - val_categorical_accuracy: 0.9169\n",
            "Epoch 2/20\n",
            "3433/3433 [==============================] - 51s 15ms/step - loss: 0.2210 - categorical_accuracy: 0.9236 - val_loss: 0.1779 - val_categorical_accuracy: 0.9363\n",
            "Epoch 3/20\n",
            "3433/3433 [==============================] - 51s 15ms/step - loss: 0.1874 - categorical_accuracy: 0.9339 - val_loss: 0.1570 - val_categorical_accuracy: 0.9437\n",
            "Epoch 4/20\n",
            "3433/3433 [==============================] - 53s 15ms/step - loss: 0.1666 - categorical_accuracy: 0.9423 - val_loss: 0.1491 - val_categorical_accuracy: 0.9493\n",
            "Epoch 5/20\n",
            "3433/3433 [==============================] - 52s 15ms/step - loss: 0.1543 - categorical_accuracy: 0.9460 - val_loss: 0.1482 - val_categorical_accuracy: 0.9494\n",
            "Epoch 6/20\n",
            "3433/3433 [==============================] - 52s 15ms/step - loss: 0.1440 - categorical_accuracy: 0.9498 - val_loss: 0.1350 - val_categorical_accuracy: 0.9543\n",
            "Epoch 7/20\n",
            "3433/3433 [==============================] - 53s 15ms/step - loss: 0.1378 - categorical_accuracy: 0.9521 - val_loss: 0.1399 - val_categorical_accuracy: 0.9514\n",
            "Epoch 8/20\n",
            "3433/3433 [==============================] - 52s 15ms/step - loss: 0.1312 - categorical_accuracy: 0.9539 - val_loss: 0.1318 - val_categorical_accuracy: 0.9542\n",
            "Epoch 9/20\n",
            "3433/3433 [==============================] - 52s 15ms/step - loss: 0.1244 - categorical_accuracy: 0.9561 - val_loss: 0.1387 - val_categorical_accuracy: 0.9512\n",
            "Epoch 10/20\n",
            "3433/3433 [==============================] - 53s 15ms/step - loss: 0.1189 - categorical_accuracy: 0.9579 - val_loss: 0.1273 - val_categorical_accuracy: 0.9569\n",
            "Epoch 11/20\n",
            "3433/3433 [==============================] - 52s 15ms/step - loss: 0.1161 - categorical_accuracy: 0.9588 - val_loss: 0.1286 - val_categorical_accuracy: 0.9571\n",
            "Epoch 12/20\n",
            "3433/3433 [==============================] - 52s 15ms/step - loss: 0.1112 - categorical_accuracy: 0.9606 - val_loss: 0.1332 - val_categorical_accuracy: 0.9549\n",
            "Epoch 13/20\n",
            "3433/3433 [==============================] - 52s 15ms/step - loss: 0.1088 - categorical_accuracy: 0.9617 - val_loss: 0.1288 - val_categorical_accuracy: 0.9581\n",
            "Epoch 14/20\n",
            "3433/3433 [==============================] - 52s 15ms/step - loss: 0.1051 - categorical_accuracy: 0.9631 - val_loss: 0.1323 - val_categorical_accuracy: 0.9553\n",
            "Epoch 15/20\n",
            "3433/3433 [==============================] - 52s 15ms/step - loss: 0.1017 - categorical_accuracy: 0.9635 - val_loss: 0.1323 - val_categorical_accuracy: 0.9570\n",
            "Epoch 16/20\n",
            "3433/3433 [==============================] - 52s 15ms/step - loss: 0.0992 - categorical_accuracy: 0.9645 - val_loss: 0.1313 - val_categorical_accuracy: 0.9579\n"
          ]
        }
      ],
      "source": [
        "history = model.fit(train_ds, epochs=EPOCHS,\n",
        "                    callbacks=[callback],\n",
        "                    validation_data=val_ds\n",
        "                    )"
      ]
    },
    {
      "cell_type": "code",
      "source": [
        "plt.figure(figsize=(16, 9))\n",
        "plt.grid()\n",
        "plt.plot(history.history['loss'])\n",
        "plt.plot(history.history['val_loss'])\n",
        "plt.title('model loss')\n",
        "plt.ylabel('loss')\n",
        "plt.xlabel('epoch')\n",
        "plt.legend(['train', 'val'], loc='upper left')\n",
        "plt.show()"
      ],
      "metadata": {
        "colab": {
          "base_uri": "https://localhost:8080/",
          "height": 567
        },
        "id": "bXvgDUc9zXdY",
        "outputId": "4fd7785d-ebe0-418a-a0c9-aa1ebaf714ce"
      },
      "execution_count": 14,
      "outputs": [
        {
          "output_type": "display_data",
          "data": {
            "text/plain": [
              "<Figure size 1152x648 with 1 Axes>"
            ],
            "image/png": "[encoded data removed]"
          },
          "metadata": {
            "needs_background": "light"
          }
        }
      ]
    },
    {
      "cell_type": "markdown",
      "source": [
        "Модель обучена!"
      ],
      "metadata": {
        "id": "3uuHAaPpwOxL"
      }
    },
    {
      "cell_type": "markdown",
      "source": [
        "## Тестирование"
      ],
      "metadata": {
        "id": "4U9gfzxvvD9R"
      }
    },
    {
      "cell_type": "code",
      "execution_count": 15,
      "metadata": {
        "id": "Lg8uvtvSdOfb",
        "colab": {
          "base_uri": "https://localhost:8080/"
        },
        "outputId": "70c6abb5-ade5-4c68-fe50-70a588c36f6b"
      },
      "outputs": [
        {
          "output_type": "stream",
          "name": "stdout",
          "text": [
            "Found 11246 files belonging to 5 classes.\n"
          ]
        }
      ],
      "source": [
        "test_ds = tf.keras.preprocessing.image_dataset_from_directory(\n",
        "        TEST_FACES_DIR,\n",
        "        seed=123,\n",
        "        label_mode='categorical',\n",
        "        class_names = LABEL_NAMES,\n",
        "        image_size=(IMG_SIZE, IMG_SIZE),\n",
        "        shuffle=False,\n",
        "        batch_size=1)"
      ]
    },
    {
      "cell_type": "code",
      "execution_count": 16,
      "metadata": {
        "id": "8_BnXJlOeNNF"
      },
      "outputs": [],
      "source": [
        "labels_ohe = np.concatenate([y for x, y in test_ds], axis=0)\n",
        "predictions_ohe = model.predict(test_ds)\n",
        "labels = labels_ohe.argmax(axis=1)\n",
        "predictions = predictions_ohe.argmax(axis=1)"
      ]
    },
    {
      "cell_type": "markdown",
      "source": [
        "### Classification report"
      ],
      "metadata": {
        "id": "2a7B1ukgwznt"
      }
    },
    {
      "cell_type": "code",
      "source": [
        "print(classification_report(labels, predictions, zero_division=0, target_names=LABEL_NAMES))"
      ],
      "metadata": {
        "colab": {
          "base_uri": "https://localhost:8080/"
        },
        "id": "yjirgk8Xw209",
        "outputId": "eab2e65f-8d52-40aa-b35b-922150d7a227"
      },
      "execution_count": 17,
      "outputs": [
        {
          "output_type": "stream",
          "name": "stdout",
          "text": [
            "              precision    recall  f1-score   support\n",
            "\n",
            "           A       0.86      0.91      0.88       500\n",
            "           E       0.96      0.98      0.97      7842\n",
            "           I       0.90      0.88      0.89      1507\n",
            "           N       0.83      0.76      0.79       613\n",
            "           T       0.88      0.80      0.84       784\n",
            "\n",
            "    accuracy                           0.94     11246\n",
            "   macro avg       0.88      0.87      0.87     11246\n",
            "weighted avg       0.94      0.94      0.94     11246\n",
            "\n"
          ]
        }
      ]
    },
    {
      "cell_type": "markdown",
      "metadata": {
        "id": "FDBPXtGy2RDg"
      },
      "source": [
        "### Confusion matrix"
      ]
    },
    {
      "cell_type": "code",
      "execution_count": 18,
      "metadata": {
        "id": "7_NwxxoKl4It",
        "colab": {
          "base_uri": "https://localhost:8080/",
          "height": 567
        },
        "outputId": "171cb259-7aa7-4756-c7b0-0d4da5d9aaa7"
      },
      "outputs": [
        {
          "output_type": "display_data",
          "data": {
            "text/plain": [
              "<Figure size 648x648 with 2 Axes>"
            ],
            "image/png": "[encoded data removed]"
          },
          "metadata": {
            "needs_background": "light"
          }
        }
      ],
      "source": [
        "cm = confusion_matrix(labels, predictions)\n",
        "plt.figure(figsize=(9, 9))\n",
        "ax = plt.subplot()\n",
        "sns.heatmap(cm, annot=True, fmt='g')\n",
        "ax.set_xlabel('Predicted labels');ax.set_ylabel('True labels'); \n",
        "ax.set_title('Confusion Matrix'); \n",
        "ax.xaxis.set_ticklabels(LABEL_NAMES); ax.yaxis.set_ticklabels(LABEL_NAMES);\n",
        "plt.show()"
      ]
    },
    {
      "cell_type": "markdown",
      "source": [
        "Мы наблюдаем достаточно высокую общую точность модели. Наиболее проблемным для предсказаний модели, как мы видим, является класс N. Это видно и в Classification report, и в Confusion matrix. На нем модель ошибается больше всего. То есть в расчет StonenessIndex в итоге могут попадать какие-то изображения без лиц. Вторая проблема в том, что модель путает классы T и I между собой, однако это может быть субъективным для определения и человеком."
      ],
      "metadata": {
        "id": "qwC1ZktF9qK3"
      }
    },
    {
      "cell_type": "markdown",
      "source": [
        "### Распределение меток по классам"
      ],
      "metadata": {
        "id": "qC0-UyYQ9kXH"
      }
    },
    {
      "cell_type": "code",
      "source": [
        "distribution_pred = pd.DataFrame(predictions).value_counts()/len(predictions)*100\n",
        "distribution_labels = pd.DataFrame(labels).value_counts()/len(labels)*100\n",
        "plt.figure(figsize=(16, 9))\n",
        "plt.title('Labels and predictions distributions')\n",
        "plt.grid()\n",
        "plt.bar(range(len(distribution_labels)),\n",
        "        distribution_labels.values,\n",
        "        tick_label=['E', 'I', 'T', 'N', 'A'],\n",
        "        alpha=0.5)\n",
        "plt.bar(range(len(distribution_pred)),\n",
        "        distribution_pred.values,\n",
        "        #tick_label = distribution.index.to_list(),\n",
        "        alpha=0.5)\n",
        "plt.legend(['True labels', 'Predicted labels'])\n",
        "plt.show()"
      ],
      "metadata": {
        "colab": {
          "base_uri": "https://localhost:8080/",
          "height": 553
        },
        "id": "9GE5U5zJ7YfC",
        "outputId": "82e02141-82ad-491c-c20a-8ebdbc5740de"
      },
      "execution_count": 19,
      "outputs": [
        {
          "output_type": "display_data",
          "data": {
            "text/plain": [
              "<Figure size 1152x648 with 1 Axes>"
            ],
            "image/png": "[encoded data removed]"
          },
          "metadata": {
            "needs_background": "light"
          }
        }
      ]
    },
    {
      "cell_type": "markdown",
      "metadata": {
        "id": "G7gH8URX2Wkz"
      },
      "source": [
        "Распределения настоящих меток и предсказанных практически одинаковы. Графики почти наложились друг на друга"
      ]
    },
    {
      "cell_type": "markdown",
      "source": [
        "### Расчет метрики заказчика"
      ],
      "metadata": {
        "id": "a_wzPfB4FR7D"
      }
    },
    {
      "cell_type": "markdown",
      "source": [
        "Заказчик предложил свою метрику для оценки качества построенной модели, которая похожа на accuracy, но меньше штрафует модель, если она предсказывает близкие классы. Например, классы А - маска целиком и I - маска на рту - близкие, модель получает половину штрафа. Для I близкие классы A и Т и так далее."
      ],
      "metadata": {
        "id": "JtJ3sEo6FYvP"
      }
    },
    {
      "cell_type": "code",
      "execution_count": 20,
      "metadata": {
        "id": "wYuHw1HBcSmR",
        "colab": {
          "base_uri": "https://localhost:8080/"
        },
        "outputId": "235e054b-ca3c-40f1-c501-bf05a13a0cbf"
      },
      "outputs": [
        {
          "output_type": "stream",
          "name": "stdout",
          "text": [
            "соседей делим на два\n",
            "%E= 0.9809997449630197\n",
            "%I= 0.9595222295952223\n",
            "%T= 0.8698979591836735\n",
            "%A= 0.938\n",
            "%N= 0.7601957585644372\n",
            "True: e 7842 i 1507 t 784 a 500 sum 10633\n",
            "Predicted: e 7957 i 1486 t 707 a 534 sum 10684\n",
            "trueIdx= 0.4302642716072604 predictedIdx= 0.4213777611381505\n",
            "FINAL SCORE: 0.8928366279921607\n"
          ]
        }
      ],
      "source": [
        "e = (cm[1, 1] + cm[1, 2] / 2) / cm[1, :].sum()\n",
        "i = (cm[2, 1] / 2 + cm[2, 2] + cm[1, 2] / 2) / cm[2, :].sum()\n",
        "t = (cm[4, 2] / 2 + cm[4, 4] + cm[4, 0] / 2) / cm[4, :].sum()\n",
        "a = (cm[0, 4] / 2 + cm[0, 0]) / cm[0, :].sum()\n",
        "n = (cm[3, 3]) / cm[3, :].sum()\n",
        "\n",
        "print(\"соседей делим на два\")\n",
        "print('%E=', e)\n",
        "print('%I=', i)\n",
        "print('%T=', t)\n",
        "print('%A=', a)\n",
        "print('%N=', n)\n",
        "\n",
        "trueE = cm[1, :].sum()\n",
        "trueI = cm[2, :].sum()\n",
        "trueT = cm[4, :].sum()\n",
        "trueA = cm[0, :].sum()\n",
        "trueSum = trueE + trueI + trueT + trueA\n",
        "\n",
        "predictedE = cm[:, 1].sum()\n",
        "predictedI = cm[:, 2].sum()\n",
        "predictedT = cm[:, 4].sum()\n",
        "predictedA = cm[:, 0].sum()\n",
        "predictedSum = predictedE + predictedI + predictedT + predictedA\n",
        "\n",
        "print('True:', 'e', trueE, 'i', trueI, 't', trueT, 'a', trueA, 'sum', trueSum)\n",
        "print('Predicted:', 'e', predictedE, 'i', predictedI, 't', predictedT, 'a', predictedA, 'sum', predictedSum)\n",
        "\n",
        "trueIdx = trueI/trueSum + 2*trueT/trueSum + 3*trueA/trueSum\n",
        "predictedIdx = predictedI/predictedSum + 2*predictedT/predictedSum + 3*predictedA/predictedSum\n",
        "print('trueIdx=', trueIdx, 'predictedIdx=', predictedIdx)\n",
        "\n",
        "print('FINAL SCORE:',(e+i+t+a+n) / 5 - abs(trueIdx - predictedIdx))"
      ]
    },
    {
      "cell_type": "markdown",
      "source": [
        "## Итоги"
      ],
      "metadata": {
        "id": "dvrsuN71GlaX"
      }
    },
    {
      "cell_type": "markdown",
      "source": [
        "Построенная модель была успешно внедрена на https://rybocop.com/mask и теперь мы наглядно наблюдаем, как меняются настроения людей в российской провинции относительно ношения масок."
      ],
      "metadata": {
        "id": "g_04KhGlHHg-"
      }
    },
    {
      "cell_type": "code",
      "source": [
        ""
      ],
      "metadata": {
        "id": "wyixwT5IHcXm"
      },
      "execution_count": 20,
      "outputs": []
    }
  ],
  "metadata": {
    "accelerator": "GPU",
    "colab": {
      "collapsed_sections": [],
      "name": "RU_masquerade.ipynb",
      "provenance": [],
      "authorship_tag": "ABX9TyMRaCNwMExcPlD3sHSjffjq",
      "include_colab_link": true
    },
    "kernelspec": {
      "display_name": "Python 3",
      "name": "python3"
    },
    "language_info": {
      "name": "python"
    },
    "gpuClass": "standard"
  },
  "nbformat": 4,
  "nbformat_minor": 0
}